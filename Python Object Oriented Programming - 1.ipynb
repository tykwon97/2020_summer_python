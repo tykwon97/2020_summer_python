{
 "cells": [
  {
   "cell_type": "markdown",
   "metadata": {},
   "source": [
    "# 객체지향 프로그래밍"
   ]
  },
  {
   "cell_type": "markdown",
   "metadata": {},
   "source": [
    "# 클래스와 객체를 만들어보자.\n",
    "\n",
    "클래스를 생성하는 기본적인 문법은 다음과 같습니다.\n",
    "\n",
    "tip) 파이썬 클래스명은 CamelCase 네이밍컨벤션입니다.\n",
    "\n",
    "```python\n",
    "\n",
    "class 클래스(object):\n",
    "    def 메서드명(self, arg1, ~):\n",
    "       소스코드\n",
    "    \n",
    "또는\n",
    "\n",
    "class 클래스명():\n",
    "    def 메서드명(self, arg1, ~):\n",
    "       소스코드\n",
    "    \n",
    "또는\n",
    "\n",
    "class 클래스명:\n",
    "    def 메서드명(self, arg1, ~):\n",
    "       소스코드\n",
    "```\n",
    "\n",
    "비행기를 클래스로 표현하려면 어떤 것이 필요할까요?\n",
    "이미 우리가 생각해본 것 입니다.\n",
    "\n",
    "비행기는 `연료, 출발지, 도착지 등의 데이터`가 필요합니다. 그리고 비행기라면 `비행 할 수 있고, 착륙할 수 있는 기능`이 있어야 합니다.\n",
    "\n",
    "여기서 연료, 출발지, 도착지 등 데이터를 `클래스의 속성(attribute)`이라고 하고, 비행, 착륙 등의 기능을 `메서드(method)`라고 합니다."
   ]
  },
  {
   "cell_type": "code",
   "execution_count": 1,
   "metadata": {},
   "outputs": [],
   "source": [
    "# 비행기 클래스와 메서드를 만듭니다.\n"
   ]
  },
  {
   "cell_type": "markdown",
   "metadata": {},
   "source": [
    "#### 객체 생성하기\n",
    "\n",
    "```python\n",
    "\n",
    "객체명 = 클래스명()``` "
   ]
  },
  {
   "cell_type": "code",
   "execution_count": 2,
   "metadata": {},
   "outputs": [],
   "source": []
  },
  {
   "cell_type": "markdown",
   "metadata": {},
   "source": [
    "### 속성 호출하기\n",
    "\n",
    "```python\n",
    "\n",
    "객체명.속성명 ```"
   ]
  },
  {
   "cell_type": "code",
   "execution_count": 3,
   "metadata": {},
   "outputs": [
    {
     "name": "stdout",
     "output_type": "stream",
     "text": [
      "ㅇㅇㅇ\n"
     ]
    }
   ],
   "source": []
  },
  {
   "cell_type": "markdown",
   "metadata": {},
   "source": [
    "#### 메서드 호출하기\n",
    "\n",
    "```python\n",
    "객체명.메서드명()```"
   ]
  },
  {
   "cell_type": "code",
   "execution_count": null,
   "metadata": {
    "scrolled": true
   },
   "outputs": [],
   "source": []
  },
  {
   "cell_type": "markdown",
   "metadata": {},
   "source": [
    "# 연습문제\n",
    "\n",
    "아래의 조건에 맞는 클래스를 만들고 객체를 생성한 뒤, 메서드를 호출해주세요.\n",
    "\n",
    "`클래스명: 사람`\n",
    "\n",
    "`인스턴스 메서드: 인사하기, 말하기`"
   ]
  },
  {
   "cell_type": "code",
   "execution_count": 7,
   "metadata": {},
   "outputs": [
    {
     "name": "stdout",
     "output_type": "stream",
     "text": [
      "말을 잘합니다.\n"
     ]
    }
   ],
   "source": [
    "class 사람:\n",
    "    def 인사하기(self):\n",
    "        print(\"안녕하세요.\")\n",
    "    def 말하기(self):\n",
    "        print(\"말을 잘합니다.\")\n",
    "\n",
    "권태윤=사람()\n",
    "권태윤.말하기()"
   ]
  },
  {
   "cell_type": "code",
   "execution_count": null,
   "metadata": {},
   "outputs": [],
   "source": []
  },
  {
   "cell_type": "markdown",
   "metadata": {},
   "source": [
    "이런식으로 클래스와 객체를 기반으로 프로그래밍 하는 방법을 객체지향 프로그래밍(OOP)이라고 합니다.\n",
    "\n",
    "이렇게 되면 수많은 객체를 만들 수 있고. 기능을 수정하거나 디벨롭 할 경우, 해당 클래스만 수정하면 되기 때문에 유지 보수에도 상당히 효율적입니다."
   ]
  },
  {
   "cell_type": "markdown",
   "metadata": {},
   "source": [
    "##### 잠깐만요!!\n",
    "사실.. 파이썬의 모든건 클래스와 객체였어."
   ]
  },
  {
   "cell_type": "code",
   "execution_count": 9,
   "metadata": {},
   "outputs": [
    {
     "name": "stdout",
     "output_type": "stream",
     "text": [
      "<class 'int'>\n",
      "<class 'function'>\n",
      "<class 'str'>\n"
     ]
    }
   ],
   "source": [
    "a = 10\n",
    "print(type(10))\n",
    "\n",
    "print(type(대한항공_비행기))\n",
    "\n",
    "def wow():\n",
    "    return \"wow\"\n",
    "\n",
    "b = wow()\n",
    "print(type(wow))\n",
    "print(type(b))"
   ]
  },
  {
   "cell_type": "markdown",
   "metadata": {},
   "source": [
    "### 클래스의 인스턴스 속성\n",
    "\n",
    "메서드는 기능을 담당하고 속성은 데이터를 담당합니다.\n",
    "\n",
    "비행기의 데이터라고하면, 연료, 출발지, 도착지 등이 있겠네요.\n",
    "\n",
    "속성은 생성자(Constructor)를 통해 부여합니다.\n",
    "\n",
    "생성자는 객체마다 다르게 가져야할 필수적인 요건을 설정하는데 사용합니다.\n",
    "\n",
    "파이썬에서는 생성자를 다음과 같은 메서드를 통해 구현합니다.\n",
    "\n",
    "##### 생성자는 객체를 생성할 때 가장 먼저 실행되는 메서드입니다.\n",
    "\n",
    "\n",
    "`self.속성 = 값`\n",
    "\n",
    "\n",
    "```python\n",
    "\n",
    "def __init__(self, attr1, attr2 ~~):\n",
    "    self.attr1 = attr1\n",
    "    self.attr2 = attr2\n",
    "```"
   ]
  },
  {
   "cell_type": "code",
   "execution_count": 5,
   "metadata": {},
   "outputs": [],
   "source": [
    "class 비행기:\n",
    "    \n",
    "    def __init__(self, 연료, 출발지, 도착지):\n",
    "        self.연료 = 연료\n",
    "        self.출발지 = 출발지\n",
    "        self.도착지 = 도착지\n",
    "    \n",
    "    def 비행(self):\n",
    "        print(\"비행 기능입니다.\")\n",
    "    def 착륙(self):\n",
    "        print (\"착륙 기능입니다.\")"
   ]
  },
  {
   "cell_type": "code",
   "execution_count": 6,
   "metadata": {},
   "outputs": [
    {
     "ename": "TypeError",
     "evalue": "__init__() missing 3 required positional arguments: '연료', '출발지', and '도착지'",
     "output_type": "error",
     "traceback": [
      "\u001b[1;31m---------------------------------------------------------------------------\u001b[0m",
      "\u001b[1;31mTypeError\u001b[0m                                 Traceback (most recent call last)",
      "\u001b[1;32m<ipython-input-6-574ca459beaa>\u001b[0m in \u001b[0;36m<module>\u001b[1;34m\u001b[0m\n\u001b[0;32m      1\u001b[0m \u001b[1;31m# 생성자에 있는 값을 대입하지 않는다면 에러를 발생시킨다.\u001b[0m\u001b[1;33m\u001b[0m\u001b[1;33m\u001b[0m\u001b[1;33m\u001b[0m\u001b[0m\n\u001b[0;32m      2\u001b[0m \u001b[1;33m\u001b[0m\u001b[0m\n\u001b[1;32m----> 3\u001b[1;33m \u001b[0mmy_plane\u001b[0m \u001b[1;33m=\u001b[0m \u001b[0m비행기\u001b[0m\u001b[1;33m(\u001b[0m\u001b[1;33m)\u001b[0m\u001b[1;33m\u001b[0m\u001b[1;33m\u001b[0m\u001b[0m\n\u001b[0m\u001b[0;32m      4\u001b[0m \u001b[0myour_plane\u001b[0m \u001b[1;33m=\u001b[0m \u001b[0m비행기\u001b[0m\u001b[1;33m(\u001b[0m\u001b[1;33m)\u001b[0m\u001b[1;33m\u001b[0m\u001b[1;33m\u001b[0m\u001b[0m\n",
      "\u001b[1;31mTypeError\u001b[0m: __init__() missing 3 required positional arguments: '연료', '출발지', and '도착지'"
     ]
    }
   ],
   "source": [
    "# 생성자에 있는 값을 대입하지 않는다면 에러를 발생시킨다.\n",
    "\n",
    "my_plane = 비행기()\n",
    "your_plane = 비행기()"
   ]
  },
  {
   "cell_type": "code",
   "execution_count": null,
   "metadata": {},
   "outputs": [],
   "source": [
    "# 생성자에 적당한 값을 할당하여 진행합니다.\n"
   ]
  },
  {
   "cell_type": "markdown",
   "metadata": {},
   "source": [
    "# 중간정리!!\n",
    "\n",
    "클래스는 크게 메서드(기능)와 속성(데이터)를 가지고 있습니다.\n",
    "\n",
    "예를들면 사람(클래스)은 걷고, 말할 수 있는 기능이 있고. \n",
    "\n",
    "이름, 나이, 키, 몸무게, 성별 등의 속성이 있습니다.\n",
    "\n",
    "기능은 클래스 내에서 함수형태, 즉 메서드로 구현됩니다.\n",
    "`def 메서드명(self, arg~~)`\n",
    "\n",
    "데이터는 클래스 내에서 속성으로 불립니다. 생성자를 통해 구현되며 `이 생성자는 객체가 만들어짐과 동시에 호출이 됩니다.`\n",
    "\n",
    "`self.속성명 = 값`"
   ]
  },
  {
   "cell_type": "markdown",
   "metadata": {},
   "source": [
    "### 모든 객체의 속성을 기본값으로 설정해 두는 방법"
   ]
  },
  {
   "cell_type": "code",
   "execution_count": null,
   "metadata": {},
   "outputs": [],
   "source": [
    "# 사람의 이름, 나이, 키 속성을 기본적으로 신짱구, 5살, 120cm로 설정해두는 것\n",
    "\n",
    "class 사람:\n",
    "    # 속성 = 데이터, 는 생성자 안에서 만들자.\n",
    "    def __init__(self):\n",
    "        self.이름 = \"신짱구\"\n",
    "        self.나이 = 5\n",
    "        self.키 = 120"
   ]
  },
  {
   "cell_type": "code",
   "execution_count": null,
   "metadata": {
    "scrolled": true
   },
   "outputs": [],
   "source": [
    "obj = 사람()\n",
    "obj.이름, obj.나이, obj.키"
   ]
  },
  {
   "cell_type": "code",
   "execution_count": null,
   "metadata": {
    "scrolled": true
   },
   "outputs": [],
   "source": [
    "# 바꿀 수도 있다.\n",
    "obj.이름 = \"신형만\"\n",
    "obj.이름, obj.나이, obj.키"
   ]
  },
  {
   "cell_type": "markdown",
   "metadata": {},
   "source": [
    "### 객체를 생성할 때 속성의 값을 전달하는 방법"
   ]
  },
  {
   "cell_type": "code",
   "execution_count": null,
   "metadata": {},
   "outputs": [],
   "source": [
    "# 인스턴스를 생성할 때 속성 값을 전달\n",
    "\n",
    "class 사람:\n",
    "    def __init__(self, name, age, height):\n",
    "        self.이름 = name\n",
    "        self.나이 = age\n",
    "        self.키 = height"
   ]
  },
  {
   "cell_type": "code",
   "execution_count": null,
   "metadata": {},
   "outputs": [],
   "source": [
    "# 객체를 생성할 때, 생성자에 값을 전달해줘야 한다.\n",
    "\n",
    "obj = 사람(\"철수\", 5, 130)\n",
    "obj.이름, obj.나이, obj.키"
   ]
  },
  {
   "cell_type": "code",
   "execution_count": null,
   "metadata": {},
   "outputs": [],
   "source": [
    "# 이것 역시 바꿀 수 있다.\n",
    "obj.이름 = \"훈이\"\n",
    "obj.이름, obj.나이, obj.키"
   ]
  },
  {
   "cell_type": "markdown",
   "metadata": {},
   "source": [
    "### 사람의 기능을 만들자. 메서드 구현"
   ]
  },
  {
   "cell_type": "code",
   "execution_count": null,
   "metadata": {},
   "outputs": [],
   "source": [
    "class 사람:\n",
    "    def __init__(self, name, age, height):\n",
    "        self.이름 = name\n",
    "        self.나이 = age\n",
    "        self.키 = height\n",
    "\n",
    "    # 기능 = 메서드, 는 함수형태로 만들자\n",
    "    def 걷기(self):\n",
    "        print(\"뚜벅뚜벅\")\n",
    "    \n",
    "    # 다음과 같이 메서드 내에서 속성을 사용 할 수 있다.\n",
    "    def 말하기(self):\n",
    "        print(f\"안녕하세요 제 이름은 {self.이름}입니다.\")"
   ]
  },
  {
   "cell_type": "code",
   "execution_count": null,
   "metadata": {},
   "outputs": [],
   "source": [
    "man = 사람(name = \"로니\", age=25, height = 182)\n",
    "man.걷기()\n",
    "man.말하기()"
   ]
  },
  {
   "cell_type": "markdown",
   "metadata": {},
   "source": [
    "### 기억할 것.\n",
    "\n",
    "1. 생성자는 객체를 생성함과 동시에 실행 되는 메서드라는 점.\n",
    "\n",
    "2. 클래스 내부에 있는 메서드, 속성들은 상호배타적인 것이 아니라 서로 유기적으로 사용할 수 있다는 점.\n",
    "\n",
    "예를들어, 생성자에 말하기 메서드를 넣으면 객체가 생성되자마자 말하는 기능을 구현할 수 있다는 것"
   ]
  },
  {
   "cell_type": "markdown",
   "metadata": {},
   "source": [
    "##### 잠깐만요!! 자꾸 등장하는 self는 무엇인가요??\n",
    "\n",
    "self는 '스스로'라는 의미이죠. self는 만들어진 객체의 이름을 가리킵니다.\n",
    "\n",
    "그렇게 되면, 위 비행기 클래스의 <b>연료</b>가 인스턴스의 연료 속성을 의미했는지,\n",
    "메서드 내의 지역변수 연료를 가리키는지 명확하지 않습니다.\n",
    "\n",
    "하지만, self.연료 = 연료 이라고 하면 self.연료 는 인스턴스 속성을 가리키고, 등호 뒤에 연료는 메서드의 지역변수라는 것이 명확해 집니다.\n",
    "\n",
    "참고) Java, C++에서 this와 동일합니다."
   ]
  },
  {
   "cell_type": "markdown",
   "metadata": {},
   "source": [
    "##### 잠깐만요!!\n",
    "객체? 인스턴스?\n",
    "이들은 영어에서 home, house와 같은 어감 차이 쯤 되는 것 같습니다.\n",
    "\n",
    "```python\n",
    "a = 비행기()\n",
    "```\n",
    "\n",
    "* a은 비행기 클래스의 인스턴스라고 표현하고, a 자체는 객체라고 표현합니다.\n",
    "* 사실상 같은 말이라고 이해해도 무방합니다."
   ]
  },
  {
   "cell_type": "markdown",
   "metadata": {},
   "source": [
    "## 연습문제, 게임 캐릭터 클래스 만들기\n",
    "\n",
    "클래스를 활용하여 저격수 캐릭터의 능력치와 \"발사\"가 출력되게 만드세요.\n",
    "\n",
    "```python\n",
    "\n",
    "# 저격수 클래스의 인스턴스 생성\n",
    "x = 저격수(체력 = 100, 총알 = 10)\n",
    "print(x.체력, x.총알)\n",
    "x.발사()\n",
    "x.발사()\n",
    "```\n",
    "\n",
    "실행결과\n",
    "\n",
    "100 10<br>\n",
    "빵야!!! 남은 총알은 9개입니다.<br>\n",
    "빵야!!! 남은 총알은 8개입니다."
   ]
  },
  {
   "cell_type": "code",
   "execution_count": 15,
   "metadata": {
    "scrolled": true
   },
   "outputs": [
    {
     "name": "stdout",
     "output_type": "stream",
     "text": [
      "100 10\n",
      "빵야!!! 남은 총알은 9개입니다.\n",
      "빵야!!! 남은 총알은 8개입니다.\n",
      "빵야!!! 남은 총알은 7개입니다.\n",
      "빵야!!! 남은 총알은 6개입니다.\n",
      "빵야!!! 남은 총알은 5개입니다.\n",
      "빵야!!! 남은 총알은 4개입니다.\n",
      "빵야!!! 남은 총알은 3개입니다.\n",
      "빵야!!! 남은 총알은 2개입니다.\n",
      "빵야!!! 남은 총알은 1개입니다.\n",
      "남은 총알이 없습니다.\n",
      "남은 총알이 없습니다.\n",
      "남은 총알이 없습니다.\n",
      "남은 총알이 없습니다.\n"
     ]
    }
   ],
   "source": [
    "# write your code here!\n",
    "class 저격수 :\n",
    "    def __init__(self,체력,총알):\n",
    "        self.체력=체력\n",
    "        self.총알=총알\n",
    "    def 발사(self) :\n",
    "        self.총알 -= 1\n",
    "        if (self.총알>0):\n",
    "            print(f\"빵야!!! 남은 총알은 {self.총알}개입니다.\")\n",
    "        else:\n",
    "            print(\"남은 총알이 없습니다.\")\n",
    "\n",
    "x=저격수(100,10)\n",
    "print(x.체력,x.총알)\n",
    "x.발사()\n",
    "x.발사()\n",
    "x.발사()\n",
    "x.발사()\n",
    "x.발사()\n",
    "x.발사()\n",
    "x.발사()\n",
    "x.발사()\n",
    "x.발사()\n",
    "x.발사()\n",
    "x.발사()\n",
    "x.발사()\n",
    "x.발사()"
   ]
  },
  {
   "cell_type": "markdown",
   "metadata": {},
   "source": [
    "# 클래스 속성과 인스턴스 속성\n",
    "\n",
    "생성자 메서드에서 만들었던 속성은 인스턴스 속성입니다.\n",
    "\n",
    "사실 속성에는 클래스 속성이라는 것도 있습니다.\n",
    "\n",
    "클래스 속성이라는 이름에 걸맞게 클래스 내에서 공유되는 속성이죠."
   ]
  },
  {
   "cell_type": "code",
   "execution_count": null,
   "metadata": {},
   "outputs": [],
   "source": [
    "class 연필:\n",
    "    \n",
    "    사용자 = []\n",
    "    제조사 = \"abc연필\"\n",
    "    \n",
    "    def 연필사용(self, 이름):\n",
    "        연필.사용자.append(이름)"
   ]
  },
  {
   "cell_type": "code",
   "execution_count": null,
   "metadata": {
    "scrolled": true
   },
   "outputs": [],
   "source": [
    "짱구 = 연필()\n",
    "철수 = 연필()"
   ]
  },
  {
   "cell_type": "code",
   "execution_count": null,
   "metadata": {},
   "outputs": [],
   "source": [
    "# 사용자 클래스 속성을 호출하세요."
   ]
  },
  {
   "cell_type": "code",
   "execution_count": null,
   "metadata": {},
   "outputs": [],
   "source": [
    "짱구.연필사용(\"신짱구\")\n",
    "\n",
    "# 사용자 클래스 속성을 호출하세요."
   ]
  },
  {
   "cell_type": "code",
   "execution_count": null,
   "metadata": {},
   "outputs": [],
   "source": [
    "철수.연필사용(\"김철수\")\n",
    "\n",
    "# 사용자 클래스 속성을 호출하세요."
   ]
  },
  {
   "cell_type": "markdown",
   "metadata": {},
   "source": [
    "연필 사용자를 기록하는 간단한 동작을 만들었습니다. 근데 앞에서 본 인스턴스 속성과 뭔가 다른 것 같죠?\n",
    "\n",
    "`짱구.연필사용`<br>\n",
    "`철수.연필사용`<br>\n",
    "이렇게 서로 다른 인스턴스에 메서드를 사용했는데,\n",
    "\n",
    "결과는 신짱구, 김철수가 기록 되어있습니다.\n",
    "\n",
    "즉, 클래스 속성은 모든 인스턴스가 공유하는 속성입니다."
   ]
  },
  {
   "cell_type": "code",
   "execution_count": null,
   "metadata": {},
   "outputs": [],
   "source": [
    "class A:\n",
    "    def __init__(self):\n",
    "        self.attr = 1\n",
    "        \n",
    "A.attr"
   ]
  },
  {
   "cell_type": "code",
   "execution_count": null,
   "metadata": {
    "scrolled": false
   },
   "outputs": [],
   "source": [
    "print(짱구.제조사)\n",
    "print(철수.제조사)\n",
    "\n",
    "연필.제조사 = \"모나미\"\n",
    "\n",
    "print(짱구.제조사)\n",
    "print(철수.제조사)\n",
    "\n",
    "연필.제조사 = '모닝글로리'\n",
    "\n",
    "print(짱구.제조사)\n",
    "print(철수.제조사)"
   ]
  },
  {
   "cell_type": "markdown",
   "metadata": {},
   "source": [
    "# 클래스의 상속 (Is-a)\n",
    "\n",
    "지금까지 우리는 클래스의 기본적인 멤버를 배워보았습니다.\n",
    "\n",
    "`인스턴스 속성, 인스턴스 메서드, 클래스 속성, 클래스 메서드, 정적 메서드`가 이에 해당하죠.\n",
    "\n",
    "이번에는 클래스 상속(inheritance)를 배워봅시다.\n",
    "\n",
    "상속은 물려받는다는 뜻이죠? 상속을 받은 클래스는 물려받은 기능을 그대로 유지하고, 다른 기능을 추가할 때 사용됩니다.\n",
    "\n",
    "여기서 기능을 물려주는 클래스를 `부모 클래스` 또는 `기반 클래스`, `슈퍼 클래스`라고 부릅니다. 반대로 기능을 물려 받는 클래스를 `자식 클래스` 또는 `파생 클래스`, `서브 클래스`라고 부릅니다.\n",
    "\n",
    "\n",
    "```python\n",
    "\n",
    "class 부모():\n",
    "    def 부모메서드(self):\n",
    "        print(\"부모 메서드입니다.\")\n",
    "        \n",
    "class 자식(부모):  # 클래스 생성을 할 때 괄호 안에 들어가는 인자는 상속하는 클래스\n",
    "    pass\n",
    "```"
   ]
  },
  {
   "cell_type": "markdown",
   "metadata": {},
   "source": [
    "# 비행기를 상속하는 전투기\n",
    "\n",
    "전투기도 비행기가 맞긴 하지만, 좀 다른 비행기라는 생각이 듭니다.\n",
    "\n",
    "전투기는 위에서 우리가 정의한 비행기의 속성과 메서드를 모두 가지고 있지만, 일반적인 비행기와 다르게 공격할 수 있는 기능이 있습니다."
   ]
  },
  {
   "cell_type": "code",
   "execution_count": null,
   "metadata": {},
   "outputs": [],
   "source": [
    "class 비행기:\n",
    "    def __init__(self):\n",
    "        self.연료 = \"연료\"\n",
    "        self.출발지 = \"출발지\"\n",
    "        self.도착지 = \"도착지\"\n",
    "    \n",
    "    def 비행(self):\n",
    "        print(\"비행 기능입니다.\")\n",
    "    def 착륙(self):\n",
    "        print (\"착륙 기능입니다.\")"
   ]
  },
  {
   "cell_type": "code",
   "execution_count": null,
   "metadata": {},
   "outputs": [],
   "source": [
    "class 전투기(비행기):\n",
    "    pass #pass 는 아무것도 하지 않고 그냥 패스하는 코드임"
   ]
  },
  {
   "cell_type": "markdown",
   "metadata": {},
   "source": [
    "### 전투기 객체를 생성하고, 전투기의 인스턴스에서 비행기가 가지고 있는 메서드를 호출해보세요."
   ]
  },
  {
   "cell_type": "code",
   "execution_count": 17,
   "metadata": {},
   "outputs": [
    {
     "name": "stdout",
     "output_type": "stream",
     "text": [
      "비행 기능입니다.\n"
     ]
    }
   ],
   "source": [
    "# write your code here!!\n",
    "class 비행기:\n",
    "    def __init__(self):\n",
    "        self.연료 = \"연료\"\n",
    "        self.출발지 = \"출발지\"\n",
    "        self.도착지 = \"도착지\"\n",
    "    \n",
    "    def 비행(self):\n",
    "        print(\"비행 기능입니다.\")\n",
    "    def 착륙(self):\n",
    "        print (\"착륙 기능입니다.\")\n",
    "class 전투기(비행기):\n",
    "    pass #pass 는 아무것도 하지 않고 그냥 패스하는 코드임\n",
    "a=전투기()\n",
    "a.비행()"
   ]
  },
  {
   "cell_type": "markdown",
   "metadata": {},
   "source": [
    "이렇게 전투기 클래스에는 아무것도 추가하지 않았지만, 전투기를 상속하는 비행기 클래스의 모든 기능을 사용할 수 있습니다.\n",
    "\n",
    "이번엔, 전투기만의 특징인 미사일발사 메서드를 추가해봅시다."
   ]
  },
  {
   "cell_type": "code",
   "execution_count": 19,
   "metadata": {},
   "outputs": [
    {
     "name": "stdout",
     "output_type": "stream",
     "text": [
      "비행 기능입니다.\n",
      "착륙 기능입니다.\n",
      "전투기의 미사일 발사 기능입니다.\n"
     ]
    }
   ],
   "source": [
    "# write your code here!!\n",
    "class 비행기:\n",
    "    def __init__(self):\n",
    "        self.연료 = \"연료\"\n",
    "        self.출발지 = \"출발지\"\n",
    "        self.도착지 = \"도착지\"\n",
    "    \n",
    "    def 비행(self):\n",
    "        print(\"비행 기능입니다.\")\n",
    "    def 착륙(self):\n",
    "        print (\"착륙 기능입니다.\")\n",
    "class 전투기(비행기):\n",
    "    def 미사일발사(self):\n",
    "        print(\"전투기의 미사일 발사 기능입니다.\")\n",
    "a=전투기()\n",
    "a.비행()\n",
    "a.착륙()\n",
    "a.미사일발사()"
   ]
  },
  {
   "cell_type": "markdown",
   "metadata": {},
   "source": [
    "비행기와 전투기의 인스턴스를 각각 생성하고 미사일발사 메서드를 사용해 봅니다."
   ]
  },
  {
   "cell_type": "markdown",
   "metadata": {},
   "source": [
    "##### 잠깐만요!!!\n",
    "\n",
    "`1. isinstance(인스턴스, 클래스)`\n",
    "\n",
    "위에 있는 isinstance 함수는 어떠한 객체가 클래스의 인스턴스인지 검사하는 함수입니다. 맞다면 True를 반환합니다.\n",
    "\n",
    "`2. issubclass(자식 클래스, 부모 클래스)`\n",
    "\n",
    "위에 있는 issubclass 함수느 상속관계를 검사하는 함수입니다.\n",
    "첫번째 인자가 두번째 인자를 상속한다면 True를 반환합니다."
   ]
  },
  {
   "cell_type": "markdown",
   "metadata": {},
   "source": [
    "# 메서드 오버라이딩 (method overriding)\n",
    "\n",
    "오버라이딩은 한마디로 `'덮어쓰기'`입니다.\n",
    "\n",
    "부모 클래스의 메서드를 자식 클래스의 메서드가 덮어쓰기를 해버리는 것이죠.\n",
    "\n",
    "이런 예시를 들어볼게요.\n",
    "\n",
    "전투기도 같은 비행 기능이지만, \"초고속 비행 가능입니다.\"라고 표현하고 싶습니다.\n",
    "\n",
    "즉, 같은 비행 메서드를 호출하더라도, `비행기 클래스에서는 \"비행 가능입니다.\"`\n",
    "\n",
    "`전투기 클래스에서는 \"초고속 비행 가능입니다.\"라고 출력하고 싶은 경우 오버라이딩을 사용합니다.`"
   ]
  },
  {
   "cell_type": "code",
   "execution_count": null,
   "metadata": {},
   "outputs": [],
   "source": [
    "class 비행기:\n",
    "    def __init__(self):\n",
    "        self.연료 = \"연료\"\n",
    "        self.출발지 = \"출발지\"\n",
    "        self.도착지 = \"도착지\"\n",
    "    \n",
    "    def 비행(self):\n",
    "        print(\"비행 기능입니다.\")\n",
    "    def 착륙(self):\n",
    "        print (\"착륙 기능입니다.\")"
   ]
  },
  {
   "cell_type": "code",
   "execution_count": null,
   "metadata": {},
   "outputs": [],
   "source": [
    "class 전투기(비행기):\n",
    "    def 비행(self): # 부모 클래스와 같은 이름의 메서드를 정의함으로써 오버라이딩 할 수 있습니다.\n",
    "        print(\"초고속 비행 가능입니다.\")\n",
    "        \n",
    "    def 미사일발사(self):\n",
    "        print(\"미사일 발사!!\")"
   ]
  },
  {
   "cell_type": "code",
   "execution_count": null,
   "metadata": {},
   "outputs": [],
   "source": [
    "비행기 = 비행기()\n",
    "전투기 = 전투기()\n",
    "\n",
    "비행기.비행()\n",
    "전투기.비행()"
   ]
  },
  {
   "cell_type": "markdown",
   "metadata": {},
   "source": [
    "### 직접해보기 !!\n",
    "\n",
    "전투기 클래스에서 비행기 클래스의 착륙 메서드를 오버라이드 해보세요!"
   ]
  },
  {
   "cell_type": "code",
   "execution_count": 20,
   "metadata": {},
   "outputs": [
    {
     "name": "stdout",
     "output_type": "stream",
     "text": [
      "비행 기능입니다.\n",
      "초고속 비행 가능입니다.\n",
      "착륙 기능입니다.\n",
      "초고속 착륙 가능입니다. 오버라이딩\n"
     ]
    }
   ],
   "source": [
    "# write your code here!!\n",
    "class 비행기:\n",
    "    def __init__(self):\n",
    "        self.연료 = \"연료\"\n",
    "        self.출발지 = \"출발지\"\n",
    "        self.도착지 = \"도착지\"\n",
    "    \n",
    "    def 비행(self):\n",
    "        print(\"비행 기능입니다.\")\n",
    "    def 착륙(self):\n",
    "        print (\"착륙 기능입니다.\")\n",
    "class 전투기(비행기):\n",
    "    def 비행(self): # 부모 클래스와 같은 이름의 메서드를 정의함으로써 오버라이딩 할 수 있습니다.\n",
    "        print(\"초고속 비행 가능입니다.\")\n",
    "    def 착륙(self):\n",
    "        print(\"초고속 착륙 가능입니다. 오버라이딩\")\n",
    "    def 미사일발사(self):\n",
    "        print(\"미사일 발사!!\")\n",
    "비행기 = 비행기()\n",
    "전투기 = 전투기()\n",
    "\n",
    "비행기.비행()\n",
    "전투기.비행()\n",
    "비행기.착륙()\n",
    "전투기.착륙()"
   ]
  },
  {
   "cell_type": "markdown",
   "metadata": {},
   "source": [
    "# 부모 클래스의 메서드와 속성 사용하기, super()\n",
    "\n",
    "앞서 배운 오버라이딩은 원래 기능을 유지하면서 새로운 기능을 덧붙일 때 사용합니다.\n",
    "\n",
    "super()를 사용하면 오버라이딩 된 메서드라도 다시 부모 클래스의 메서드 기능을 호출할 수 있습니다.\n",
    "\n",
    "```python\n",
    "\n",
    "super().메서드()\n",
    "\n",
    "```"
   ]
  },
  {
   "cell_type": "code",
   "execution_count": 22,
   "metadata": {},
   "outputs": [],
   "source": [
    "class 비행기(object):\n",
    "    def __init__(self):\n",
    "        self.연료 = 100\n",
    "        self.출발지 = \"출발지\"\n",
    "        self.도착지 = \"도착지\"\n",
    "    \n",
    "    def 비행(self):\n",
    "        print(\"비행 기능입니다.\")\n",
    "    def 착륙(self):\n",
    "        print (\"착륙 기능입니다.\")"
   ]
  },
  {
   "cell_type": "code",
   "execution_count": 23,
   "metadata": {},
   "outputs": [],
   "source": [
    "class 전투기(비행기):\n",
    "    #오버라이딩\n",
    "    def 비행(self):\n",
    "        print(\"초고속 비행 가능입니다.\")\n",
    "        super().비행() # 비행기 클래스의 비행 메서드를 호출\n",
    "        \n",
    "    def 미사일발사(self):\n",
    "        print(\"미사일 발사!!\")"
   ]
  },
  {
   "cell_type": "code",
   "execution_count": 24,
   "metadata": {
    "scrolled": true
   },
   "outputs": [
    {
     "name": "stdout",
     "output_type": "stream",
     "text": [
      "비행 기능입니다.\n",
      "초고속 비행 가능입니다.\n",
      "비행 기능입니다.\n"
     ]
    }
   ],
   "source": [
    "비행기 = 비행기()\n",
    "전투기 = 전투기()\n",
    "\n",
    "비행기.비행()\n",
    "전투기.비행()"
   ]
  },
  {
   "cell_type": "markdown",
   "metadata": {},
   "source": [
    "### 직접 해보기 !!\n",
    "\n",
    "전투기 클래스의 생성자에 미사일 갯수 속성을 추가해봅시다.\n",
    "전투기가 미사일을 발사할 때마다 갯수가 하나씩 줄어들고, 연료가 1만큼 줄어드는 기능을 구현해봅니다."
   ]
  },
  {
   "cell_type": "code",
   "execution_count": 25,
   "metadata": {},
   "outputs": [],
   "source": [
    "class 비행기(object):\n",
    "    def __init__(self):\n",
    "        self.연료 = 100\n",
    "        self.출발지 = \"출발지\"\n",
    "        self.도착지 = \"도착지\"\n",
    "    \n",
    "    def 비행(self):\n",
    "        print(\"비행 기능입니다.\")\n",
    "    def 착륙(self):\n",
    "        print (\"착륙 기능입니다.\")"
   ]
  },
  {
   "cell_type": "code",
   "execution_count": 39,
   "metadata": {},
   "outputs": [
    {
     "name": "stdout",
     "output_type": "stream",
     "text": [
      "빵야!! 한개 발사! 남은 미사일 개수는 2개, 남은 연료는 99입니다.\n",
      "빵야!! 한개 발사! 남은 미사일 개수는 1개, 남은 연료는 98입니다.\n",
      "빵야!! 한개 발사! 남은 미사일 개수는 0개, 남은 연료는 97입니다.\n",
      "남은 미사일이 없습니다.\n",
      "남은 미사일이 없습니다.\n",
      "남은 미사일이 없습니다.\n",
      "남은 미사일이 없습니다.\n",
      "남은 미사일이 없습니다.\n",
      "남은 미사일이 없습니다.\n",
      "남은 미사일이 없습니다.\n"
     ]
    }
   ],
   "source": [
    "# write your code here !!       \n",
    "class 전투기(비행기):\n",
    "    def __init__(self):\n",
    "        super().__init__()\n",
    "        self.미사일 = 3\n",
    "    def 발사(self):\n",
    "        if (self.미사일>0 and self.연료>0) :\n",
    "            self.미사일 -= 1\n",
    "            self.연료 -= 1\n",
    "            return print(f\"빵야!! 한개 발사! 남은 미사일 개수는 {self.미사일}개, 남은 연료는 {self.연료}입니다.\")\n",
    "        else:\n",
    "            return print(\"남은 미사일이 없습니다.\")\n",
    "전투기=전투기()\n",
    "for i in range(10):\n",
    "    전투기.발사()\n"
   ]
  },
  {
   "cell_type": "markdown",
   "metadata": {},
   "source": [
    "##### 잠깐만요!!\n",
    "\n",
    "1. super에 들어가는 인자에 대해서 대해 좀 더 자세히 알아보죠.\n",
    "\n",
    "```python\n",
    "# 사실 이런 구조이지만, 파이썬3부터는 super().메서드()로 대체가능\n",
    "super(자식클래스, self).메서드()\n",
    "```\n",
    "\n",
    "super() 형식으로 만들면, 혹시라도 클래스명이 변경될 경우에도 super의 인자를 수정하지 않아도 되는 이점이 있습니다.\n",
    "\n",
    "2. ```__init__```에서 super()쓰기\n",
    "\n",
    "super()는 기본 클래스에 있는 ```__init__``` 함수에서 가장 흔하게 쓰입니다. 흔히 자식에서 다른 동작이 필요한 유일한 부분이 ```__init__``` 입니다.\n",
    "\n",
    "자식만의 다른 동작을 마친 다음의 부모마저도 초기화 합니다."
   ]
  },
  {
   "cell_type": "markdown",
   "metadata": {},
   "source": [
    "# 클래스의 합성 (Has-a)\n",
    "\n",
    "클래스 합성은, 다른 클래스의 인스턴스를 속성으로 갖게 하는 것입니다.\n",
    "\n",
    "예컨데, 다음과 같은 문장을 표현해봅시다.\n",
    "\n",
    "`\"경찰이 총을 가지고 있다.\"`"
   ]
  },
  {
   "cell_type": "markdown",
   "metadata": {},
   "source": [
    "```python\n",
    "class 총():\n",
    "    pass\n",
    "\n",
    "class 경찰():\n",
    "    pass\n",
    "```\n",
    "\n",
    "이럴 경우 경찰이 총을 상속하는게 뭔가 어색합니다.\n",
    "\n",
    "경칠이 총의 기능을 물려받는다? 뭔가 이상하죠?\n",
    "\n",
    "이런 경우 합성을 사용합니다."
   ]
  },
  {
   "cell_type": "code",
   "execution_count": 40,
   "metadata": {},
   "outputs": [],
   "source": [
    "class 총():\n",
    "    def __init__(self, gun):\n",
    "        self.gun = gun\n",
    "    \n",
    "    def 발사(self):\n",
    "        print(\"빵야!\")\n",
    "        \n",
    "class 경찰():\n",
    "    def __init__(self, gun=None):\n",
    "        if gun:\n",
    "            self.gun = 총(gun) # 총 클래스의 인스턴스를 경찰 클래스의 속성으로 사용\n",
    "        else:\n",
    "            self.gun = gun\n",
    "    \n",
    "            \n",
    "    def 총쏘기(self):\n",
    "        if self.gun:\n",
    "            self.gun.발사() # 이는 총 클래스에 발사 메서드가 호출 되는 것과 동일\n",
    "        else:\n",
    "            print(\"총이 없습니다.\")"
   ]
  },
  {
   "cell_type": "code",
   "execution_count": 41,
   "metadata": {},
   "outputs": [
    {
     "name": "stdout",
     "output_type": "stream",
     "text": [
      "총이 없습니다.\n",
      "빵야!\n"
     ]
    }
   ],
   "source": [
    "총없는경찰 = 경찰()\n",
    "총있는경찰 = 경찰(True)\n",
    "\n",
    "총없는경찰.총쏘기()\n",
    "총있는경찰.총쏘기()"
   ]
  },
  {
   "cell_type": "code",
   "execution_count": 42,
   "metadata": {},
   "outputs": [
    {
     "name": "stdout",
     "output_type": "stream",
     "text": [
      "총이 없습니다.\n",
      "빵야!\n"
     ]
    }
   ],
   "source": [
    "no_gun_police = 경찰()\n",
    "gun_police = 경찰(True)\n",
    "\n",
    "no_gun_police.총쏘기()\n",
    "gun_police.총쏘기()"
   ]
  },
  {
   "cell_type": "markdown",
   "metadata": {},
   "source": [
    "# 상속(Is- a) vs 합성(Has - a)\n",
    "\n",
    "상속은 같은 종류에 동등한 관계일 때 사용합니다.\n",
    "\n",
    "비행기 - 전투기 관계처럼 말이죠. 전투기는 비행기의 한 종류입니다. 그래서 (Is- a)관계가 성립하죠.\n",
    "\n",
    "그 외에\n",
    "\n",
    "\"경찰이 총을 가지고 있다.\" 관계 같은 경우엔 속성에 다른 클래스의 인스턴스를 넣는 방식을 사용하면 됩니다. (Has-a)"
   ]
  },
  {
   "cell_type": "markdown",
   "metadata": {},
   "source": [
    "##### 상속과 합성.. 무엇을 사용할까?\n",
    "\n",
    "상속의 효용을 합성으로도 똑같이 가져올 수 있다는 것을 알았습니다. 즉, 코드의 재사용 문제를 둘다 해결하죠.\n",
    "상속은 부모 클래스의 기능을 묵시적으로 쓸 수 있는 체계를 제공해 이 문제를 해결합니다.\n",
    "합성은 다른 클래스의 함수를 호출할 수 있는 기능으로 해결합니다.\n",
    "\n",
    "1. `다중 상속은 최대한 피해야합니다.` 이런 상황에서는 코드에서 클래스의 구조도를 잘 살피고 서로 어떤 연관이 있는지 꼼꼼히 파악해야합니다.\n",
    "2. 코드가 서로 관련없는 위치나 상황에서 쓰이는 경우에는 합성을 이용합니다.\n",
    "3. 상속은 하나의 공통 개념에 들어맞으면서 명확하게 연관된 재사용 가능한 코드가 있거나, 다른 코드 때문에 꼭 써야할 때만 사용하세요.\n",
    "\n",
    "단, 이 규칙에 얽메이진 마세요"
   ]
  }
 ],
 "metadata": {
  "kernelspec": {
   "display_name": "Python 3",
   "language": "python",
   "name": "python3"
  },
  "language_info": {
   "codemirror_mode": {
    "name": "ipython",
    "version": 3
   },
   "file_extension": ".py",
   "mimetype": "text/x-python",
   "name": "python",
   "nbconvert_exporter": "python",
   "pygments_lexer": "ipython3",
   "version": "3.8.3"
  }
 },
 "nbformat": 4,
 "nbformat_minor": 2
}
